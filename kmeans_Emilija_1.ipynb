{
 "cells": [
  {
   "cell_type": "markdown",
   "id": "86763045-32c9-455f-add1-0b132a028855",
   "metadata": {},
   "source": [
    "# Clustering Methods"
   ]
  },
  {
   "cell_type": "markdown",
   "id": "0432e3b1-6bf2-4c19-b805-155b44fd59fc",
   "metadata": {},
   "source": [
    "### Imports"
   ]
  },
  {
   "cell_type": "code",
   "execution_count": 1,
   "id": "f3a03915-7493-4f84-9e3a-7a0df031c355",
   "metadata": {},
   "outputs": [],
   "source": [
    "# Import standard libraries\n",
    "import pandas as pd\n",
    "import numpy as np\n",
    "import seaborn as sns\n",
    "import matplotlib.pyplot as plt\n",
    "%matplotlib inline\n",
    "\n",
    "# Sklearn import\n",
    "from sklearn.model_selection import train_test_split # Splitting the data set\n",
    "from sklearn.model_selection import KFold, cross_val_score # Cross validation\n",
    "from sklearn.preprocessing import MinMaxScaler, StandardScaler # Normalization and standard scaler\n",
    "from sklearn.preprocessing import PolynomialFeatures # Polynomial features\n",
    "from sklearn.preprocessing import LabelEncoder, OneHotEncoder # Label and 1-hot encoding\n",
    "from sklearn.linear_model import LogisticRegression # Logistic regression model\n",
    "from sklearn.linear_model import LogisticRegressionCV # Logistic regression model with cross validation\n",
    "from sklearn.neighbors import KNeighborsClassifier # KNN Algorithm\n",
    "from sklearn.model_selection import GridSearchCV   # Grid search for cross validation\n",
    "from sklearn.tree import DecisionTreeClassifier, plot_tree # Decision Trees\n",
    "from sklearn.metrics import accuracy_score  # Accuracy\n",
    "from sklearn.metrics import confusion_matrix # Confusion matrix\n",
    "from sklearn.metrics import precision_score, recall_score, f1_score  # Precision, recall, and f1 score\n",
    "from sklearn.linear_model import LinearRegression # Regression linear model\n",
    "from sklearn.linear_model import Ridge # Ridge model\n",
    "from sklearn.linear_model import RidgeCV # Ridge with cross validation\n",
    "from sklearn.metrics import mean_squared_error, mean_absolute_error, r2_score # Metrics for errors\n",
    "\n",
    "# Import to load arff file from url\n",
    "from scipy.io import arff\n",
    "import urllib.request\n",
    "import io"
   ]
  },
  {
   "cell_type": "code",
   "execution_count": 2,
   "id": "368e0e88-2f9f-4774-90df-010d02c6a1bf",
   "metadata": {},
   "outputs": [
    {
     "data": {
      "text/html": [
       "<div>\n",
       "<style scoped>\n",
       "    .dataframe tbody tr th:only-of-type {\n",
       "        vertical-align: middle;\n",
       "    }\n",
       "\n",
       "    .dataframe tbody tr th {\n",
       "        vertical-align: top;\n",
       "    }\n",
       "\n",
       "    .dataframe thead th {\n",
       "        text-align: right;\n",
       "    }\n",
       "</style>\n",
       "<table border=\"1\" class=\"dataframe\">\n",
       "  <thead>\n",
       "    <tr style=\"text-align: right;\">\n",
       "      <th></th>\n",
       "      <th>country</th>\n",
       "      <th>development_index</th>\n",
       "      <th>life_expect</th>\n",
       "      <th>life_exp60</th>\n",
       "      <th>basic_water</th>\n",
       "      <th>gdp_per_capita</th>\n",
       "      <th>eco_footprint</th>\n",
       "      <th>pf_rol</th>\n",
       "      <th>ef_legal</th>\n",
       "      <th>adult_mortality</th>\n",
       "      <th>infant_mort</th>\n",
       "      <th>age1-4mort</th>\n",
       "      <th>happiness_score</th>\n",
       "    </tr>\n",
       "  </thead>\n",
       "  <tbody>\n",
       "    <tr>\n",
       "      <th>0</th>\n",
       "      <td>Angola</td>\n",
       "      <td>0.52</td>\n",
       "      <td>62.63262</td>\n",
       "      <td>17.34829</td>\n",
       "      <td>55.08428</td>\n",
       "      <td>4665.91</td>\n",
       "      <td>0.93</td>\n",
       "      <td>3.451814</td>\n",
       "      <td>2.963635</td>\n",
       "      <td>237.96940</td>\n",
       "      <td>0.057900</td>\n",
       "      <td>0.007520</td>\n",
       "      <td>3.866</td>\n",
       "    </tr>\n",
       "    <tr>\n",
       "      <th>1</th>\n",
       "      <td>Burundi</td>\n",
       "      <td>0.39</td>\n",
       "      <td>60.09811</td>\n",
       "      <td>16.59126</td>\n",
       "      <td>60.20415</td>\n",
       "      <td>276.69</td>\n",
       "      <td>0.80</td>\n",
       "      <td>2.961470</td>\n",
       "      <td>3.495487</td>\n",
       "      <td>290.18580</td>\n",
       "      <td>0.052420</td>\n",
       "      <td>0.006450</td>\n",
       "      <td>2.905</td>\n",
       "    </tr>\n",
       "    <tr>\n",
       "      <th>2</th>\n",
       "      <td>Benin</td>\n",
       "      <td>0.48</td>\n",
       "      <td>61.08568</td>\n",
       "      <td>17.20543</td>\n",
       "      <td>66.32024</td>\n",
       "      <td>746.83</td>\n",
       "      <td>1.41</td>\n",
       "      <td>4.129480</td>\n",
       "      <td>3.822761</td>\n",
       "      <td>242.37410</td>\n",
       "      <td>0.066690</td>\n",
       "      <td>0.009390</td>\n",
       "      <td>3.484</td>\n",
       "    </tr>\n",
       "    <tr>\n",
       "      <th>3</th>\n",
       "      <td>Burkina Faso</td>\n",
       "      <td>0.39</td>\n",
       "      <td>60.32101</td>\n",
       "      <td>15.48575</td>\n",
       "      <td>48.26772</td>\n",
       "      <td>671.07</td>\n",
       "      <td>1.21</td>\n",
       "      <td>4.860575</td>\n",
       "      <td>3.687657</td>\n",
       "      <td>254.60270</td>\n",
       "      <td>0.055795</td>\n",
       "      <td>0.008635</td>\n",
       "      <td>3.739</td>\n",
       "    </tr>\n",
       "    <tr>\n",
       "      <th>4</th>\n",
       "      <td>Botswana</td>\n",
       "      <td>0.69</td>\n",
       "      <td>66.05297</td>\n",
       "      <td>17.42258</td>\n",
       "      <td>89.40444</td>\n",
       "      <td>7743.50</td>\n",
       "      <td>3.83</td>\n",
       "      <td>5.641684</td>\n",
       "      <td>5.950516</td>\n",
       "      <td>249.24130</td>\n",
       "      <td>0.032560</td>\n",
       "      <td>0.002040</td>\n",
       "      <td>3.974</td>\n",
       "    </tr>\n",
       "    <tr>\n",
       "      <th>...</th>\n",
       "      <td>...</td>\n",
       "      <td>...</td>\n",
       "      <td>...</td>\n",
       "      <td>...</td>\n",
       "      <td>...</td>\n",
       "      <td>...</td>\n",
       "      <td>...</td>\n",
       "      <td>...</td>\n",
       "      <td>...</td>\n",
       "      <td>...</td>\n",
       "      <td>...</td>\n",
       "      <td>...</td>\n",
       "      <td>...</td>\n",
       "    </tr>\n",
       "    <tr>\n",
       "      <th>132</th>\n",
       "      <td>New Zealand</td>\n",
       "      <td>0.91</td>\n",
       "      <td>82.24739</td>\n",
       "      <td>25.29202</td>\n",
       "      <td>100.00000</td>\n",
       "      <td>37488.30</td>\n",
       "      <td>5.60</td>\n",
       "      <td>7.868546</td>\n",
       "      <td>8.715280</td>\n",
       "      <td>66.05728</td>\n",
       "      <td>0.003975</td>\n",
       "      <td>0.000235</td>\n",
       "      <td>7.334</td>\n",
       "    </tr>\n",
       "    <tr>\n",
       "      <th>133</th>\n",
       "      <td>Japan</td>\n",
       "      <td>0.89</td>\n",
       "      <td>84.16616</td>\n",
       "      <td>26.39402</td>\n",
       "      <td>98.97000</td>\n",
       "      <td>46201.60</td>\n",
       "      <td>5.02</td>\n",
       "      <td>7.643490</td>\n",
       "      <td>7.586987</td>\n",
       "      <td>50.82619</td>\n",
       "      <td>0.001980</td>\n",
       "      <td>0.000195</td>\n",
       "      <td>5.921</td>\n",
       "    </tr>\n",
       "    <tr>\n",
       "      <th>134</th>\n",
       "      <td>Cambodia</td>\n",
       "      <td>0.55</td>\n",
       "      <td>69.36723</td>\n",
       "      <td>17.36710</td>\n",
       "      <td>76.94537</td>\n",
       "      <td>877.64</td>\n",
       "      <td>1.21</td>\n",
       "      <td>2.566741</td>\n",
       "      <td>4.277907</td>\n",
       "      <td>170.49700</td>\n",
       "      <td>0.027600</td>\n",
       "      <td>0.001110</td>\n",
       "      <td>3.907</td>\n",
       "    </tr>\n",
       "    <tr>\n",
       "      <th>135</th>\n",
       "      <td>South Korea</td>\n",
       "      <td>0.89</td>\n",
       "      <td>82.66409</td>\n",
       "      <td>25.26966</td>\n",
       "      <td>99.67540</td>\n",
       "      <td>24155.80</td>\n",
       "      <td>5.69</td>\n",
       "      <td>7.438183</td>\n",
       "      <td>6.391154</td>\n",
       "      <td>60.81405</td>\n",
       "      <td>0.002955</td>\n",
       "      <td>0.000125</td>\n",
       "      <td>5.835</td>\n",
       "    </tr>\n",
       "    <tr>\n",
       "      <th>136</th>\n",
       "      <td>Laos</td>\n",
       "      <td>0.56</td>\n",
       "      <td>65.79089</td>\n",
       "      <td>16.83024</td>\n",
       "      <td>79.94190</td>\n",
       "      <td>1236.24</td>\n",
       "      <td>1.22</td>\n",
       "      <td>3.953482</td>\n",
       "      <td>5.937201</td>\n",
       "      <td>192.79390</td>\n",
       "      <td>0.051895</td>\n",
       "      <td>0.003990</td>\n",
       "      <td>4.876</td>\n",
       "    </tr>\n",
       "  </tbody>\n",
       "</table>\n",
       "<p>137 rows × 13 columns</p>\n",
       "</div>"
      ],
      "text/plain": [
       "          country  development_index  life_expect  life_exp60  basic_water  \\\n",
       "0          Angola               0.52     62.63262    17.34829     55.08428   \n",
       "1         Burundi               0.39     60.09811    16.59126     60.20415   \n",
       "2           Benin               0.48     61.08568    17.20543     66.32024   \n",
       "3    Burkina Faso               0.39     60.32101    15.48575     48.26772   \n",
       "4        Botswana               0.69     66.05297    17.42258     89.40444   \n",
       "..            ...                ...          ...         ...          ...   \n",
       "132   New Zealand               0.91     82.24739    25.29202    100.00000   \n",
       "133         Japan               0.89     84.16616    26.39402     98.97000   \n",
       "134      Cambodia               0.55     69.36723    17.36710     76.94537   \n",
       "135   South Korea               0.89     82.66409    25.26966     99.67540   \n",
       "136          Laos               0.56     65.79089    16.83024     79.94190   \n",
       "\n",
       "     gdp_per_capita  eco_footprint    pf_rol  ef_legal  adult_mortality  \\\n",
       "0           4665.91           0.93  3.451814  2.963635        237.96940   \n",
       "1            276.69           0.80  2.961470  3.495487        290.18580   \n",
       "2            746.83           1.41  4.129480  3.822761        242.37410   \n",
       "3            671.07           1.21  4.860575  3.687657        254.60270   \n",
       "4           7743.50           3.83  5.641684  5.950516        249.24130   \n",
       "..              ...            ...       ...       ...              ...   \n",
       "132        37488.30           5.60  7.868546  8.715280         66.05728   \n",
       "133        46201.60           5.02  7.643490  7.586987         50.82619   \n",
       "134          877.64           1.21  2.566741  4.277907        170.49700   \n",
       "135        24155.80           5.69  7.438183  6.391154         60.81405   \n",
       "136         1236.24           1.22  3.953482  5.937201        192.79390   \n",
       "\n",
       "     infant_mort  age1-4mort  happiness_score  \n",
       "0       0.057900    0.007520            3.866  \n",
       "1       0.052420    0.006450            2.905  \n",
       "2       0.066690    0.009390            3.484  \n",
       "3       0.055795    0.008635            3.739  \n",
       "4       0.032560    0.002040            3.974  \n",
       "..           ...         ...              ...  \n",
       "132     0.003975    0.000235            7.334  \n",
       "133     0.001980    0.000195            5.921  \n",
       "134     0.027600    0.001110            3.907  \n",
       "135     0.002955    0.000125            5.835  \n",
       "136     0.051895    0.003990            4.876  \n",
       "\n",
       "[137 rows x 13 columns]"
      ]
     },
     "execution_count": 2,
     "metadata": {},
     "output_type": "execute_result"
    }
   ],
   "source": [
    "world_metrics_subset_path = \"https://raw.githubusercontent.com/mivelikikh/what_makes_us_happy/main/data/world_metrics_subset.csv\"\n",
    "world_metrics_subset = pd.read_csv(world_metrics_subset_path)\n",
    "\n",
    "world_metrics_subset"
   ]
  },
  {
   "cell_type": "code",
   "execution_count": 3,
   "id": "992bf3f7-ec39-4f06-9ddf-261143078785",
   "metadata": {},
   "outputs": [
    {
     "data": {
      "text/plain": [
       "country               object\n",
       "development_index    float64\n",
       "life_expect          float64\n",
       "life_exp60           float64\n",
       "basic_water          float64\n",
       "gdp_per_capita       float64\n",
       "eco_footprint        float64\n",
       "pf_rol               float64\n",
       "ef_legal             float64\n",
       "adult_mortality      float64\n",
       "infant_mort          float64\n",
       "age1-4mort           float64\n",
       "happiness_score      float64\n",
       "dtype: object"
      ]
     },
     "execution_count": 3,
     "metadata": {},
     "output_type": "execute_result"
    }
   ],
   "source": [
    "# Displaying the data types\n",
    "world_metrics_subset.dtypes"
   ]
  },
  {
   "cell_type": "code",
   "execution_count": 4,
   "id": "31f3b795-33a7-49fa-ae19-f12e22817c21",
   "metadata": {},
   "outputs": [
    {
     "data": {
      "text/html": [
       "<div>\n",
       "<style scoped>\n",
       "    .dataframe tbody tr th:only-of-type {\n",
       "        vertical-align: middle;\n",
       "    }\n",
       "\n",
       "    .dataframe tbody tr th {\n",
       "        vertical-align: top;\n",
       "    }\n",
       "\n",
       "    .dataframe thead th {\n",
       "        text-align: right;\n",
       "    }\n",
       "</style>\n",
       "<table border=\"1\" class=\"dataframe\">\n",
       "  <thead>\n",
       "    <tr style=\"text-align: right;\">\n",
       "      <th></th>\n",
       "      <th>development_index</th>\n",
       "      <th>life_expect</th>\n",
       "      <th>life_exp60</th>\n",
       "      <th>basic_water</th>\n",
       "      <th>gdp_per_capita</th>\n",
       "      <th>eco_footprint</th>\n",
       "      <th>pf_rol</th>\n",
       "      <th>ef_legal</th>\n",
       "      <th>adult_mortality</th>\n",
       "      <th>infant_mort</th>\n",
       "      <th>age1-4mort</th>\n",
       "      <th>happiness_score</th>\n",
       "    </tr>\n",
       "  </thead>\n",
       "  <tbody>\n",
       "    <tr>\n",
       "      <th>count</th>\n",
       "      <td>137.000000</td>\n",
       "      <td>137.000000</td>\n",
       "      <td>137.000000</td>\n",
       "      <td>137.000000</td>\n",
       "      <td>137.000000</td>\n",
       "      <td>137.000000</td>\n",
       "      <td>137.000000</td>\n",
       "      <td>137.000000</td>\n",
       "      <td>137.000000</td>\n",
       "      <td>137.000000</td>\n",
       "      <td>137.000000</td>\n",
       "      <td>137.000000</td>\n",
       "    </tr>\n",
       "    <tr>\n",
       "      <th>mean</th>\n",
       "      <td>0.704919</td>\n",
       "      <td>72.962743</td>\n",
       "      <td>20.262010</td>\n",
       "      <td>88.432938</td>\n",
       "      <td>15695.127153</td>\n",
       "      <td>3.423285</td>\n",
       "      <td>5.166594</td>\n",
       "      <td>5.235571</td>\n",
       "      <td>150.254420</td>\n",
       "      <td>0.021038</td>\n",
       "      <td>0.001848</td>\n",
       "      <td>5.416920</td>\n",
       "    </tr>\n",
       "    <tr>\n",
       "      <th>std</th>\n",
       "      <td>0.155286</td>\n",
       "      <td>7.307447</td>\n",
       "      <td>3.026119</td>\n",
       "      <td>15.825358</td>\n",
       "      <td>22170.466768</td>\n",
       "      <td>2.432932</td>\n",
       "      <td>1.628152</td>\n",
       "      <td>1.530037</td>\n",
       "      <td>78.374564</td>\n",
       "      <td>0.020495</td>\n",
       "      <td>0.002789</td>\n",
       "      <td>1.124471</td>\n",
       "    </tr>\n",
       "    <tr>\n",
       "      <th>min</th>\n",
       "      <td>0.340000</td>\n",
       "      <td>53.130500</td>\n",
       "      <td>13.349510</td>\n",
       "      <td>38.852590</td>\n",
       "      <td>276.690000</td>\n",
       "      <td>0.610000</td>\n",
       "      <td>2.060257</td>\n",
       "      <td>2.002915</td>\n",
       "      <td>49.201850</td>\n",
       "      <td>0.001790</td>\n",
       "      <td>0.000070</td>\n",
       "      <td>2.905000</td>\n",
       "    </tr>\n",
       "    <tr>\n",
       "      <th>25%</th>\n",
       "      <td>0.590000</td>\n",
       "      <td>68.039250</td>\n",
       "      <td>17.609330</td>\n",
       "      <td>82.800580</td>\n",
       "      <td>1627.900000</td>\n",
       "      <td>1.460000</td>\n",
       "      <td>3.974523</td>\n",
       "      <td>4.030095</td>\n",
       "      <td>87.429160</td>\n",
       "      <td>0.005000</td>\n",
       "      <td>0.000240</td>\n",
       "      <td>4.459000</td>\n",
       "    </tr>\n",
       "    <tr>\n",
       "      <th>50%</th>\n",
       "      <td>0.730000</td>\n",
       "      <td>74.843090</td>\n",
       "      <td>20.117140</td>\n",
       "      <td>95.992400</td>\n",
       "      <td>5880.800000</td>\n",
       "      <td>2.840000</td>\n",
       "      <td>4.757804</td>\n",
       "      <td>5.071814</td>\n",
       "      <td>135.341100</td>\n",
       "      <td>0.013175</td>\n",
       "      <td>0.000545</td>\n",
       "      <td>5.303000</td>\n",
       "    </tr>\n",
       "    <tr>\n",
       "      <th>75%</th>\n",
       "      <td>0.830000</td>\n",
       "      <td>77.762060</td>\n",
       "      <td>22.390870</td>\n",
       "      <td>99.586750</td>\n",
       "      <td>18103.100000</td>\n",
       "      <td>4.980000</td>\n",
       "      <td>6.382863</td>\n",
       "      <td>6.158069</td>\n",
       "      <td>194.952800</td>\n",
       "      <td>0.032560</td>\n",
       "      <td>0.002235</td>\n",
       "      <td>6.324000</td>\n",
       "    </tr>\n",
       "    <tr>\n",
       "      <th>max</th>\n",
       "      <td>0.940000</td>\n",
       "      <td>84.166160</td>\n",
       "      <td>26.394020</td>\n",
       "      <td>100.000000</td>\n",
       "      <td>114665.000000</td>\n",
       "      <td>15.820000</td>\n",
       "      <td>8.687101</td>\n",
       "      <td>8.798181</td>\n",
       "      <td>388.805700</td>\n",
       "      <td>0.090800</td>\n",
       "      <td>0.014615</td>\n",
       "      <td>7.526000</td>\n",
       "    </tr>\n",
       "  </tbody>\n",
       "</table>\n",
       "</div>"
      ],
      "text/plain": [
       "       development_index  life_expect  life_exp60  basic_water  \\\n",
       "count         137.000000   137.000000  137.000000   137.000000   \n",
       "mean            0.704919    72.962743   20.262010    88.432938   \n",
       "std             0.155286     7.307447    3.026119    15.825358   \n",
       "min             0.340000    53.130500   13.349510    38.852590   \n",
       "25%             0.590000    68.039250   17.609330    82.800580   \n",
       "50%             0.730000    74.843090   20.117140    95.992400   \n",
       "75%             0.830000    77.762060   22.390870    99.586750   \n",
       "max             0.940000    84.166160   26.394020   100.000000   \n",
       "\n",
       "       gdp_per_capita  eco_footprint      pf_rol    ef_legal  adult_mortality  \\\n",
       "count      137.000000     137.000000  137.000000  137.000000       137.000000   \n",
       "mean     15695.127153       3.423285    5.166594    5.235571       150.254420   \n",
       "std      22170.466768       2.432932    1.628152    1.530037        78.374564   \n",
       "min        276.690000       0.610000    2.060257    2.002915        49.201850   \n",
       "25%       1627.900000       1.460000    3.974523    4.030095        87.429160   \n",
       "50%       5880.800000       2.840000    4.757804    5.071814       135.341100   \n",
       "75%      18103.100000       4.980000    6.382863    6.158069       194.952800   \n",
       "max     114665.000000      15.820000    8.687101    8.798181       388.805700   \n",
       "\n",
       "       infant_mort  age1-4mort  happiness_score  \n",
       "count   137.000000  137.000000       137.000000  \n",
       "mean      0.021038    0.001848         5.416920  \n",
       "std       0.020495    0.002789         1.124471  \n",
       "min       0.001790    0.000070         2.905000  \n",
       "25%       0.005000    0.000240         4.459000  \n",
       "50%       0.013175    0.000545         5.303000  \n",
       "75%       0.032560    0.002235         6.324000  \n",
       "max       0.090800    0.014615         7.526000  "
      ]
     },
     "execution_count": 4,
     "metadata": {},
     "output_type": "execute_result"
    }
   ],
   "source": [
    "world_metrics_subset.describe()"
   ]
  },
  {
   "cell_type": "code",
   "execution_count": 5,
   "id": "5dcaeb81-3faf-4a84-8257-4fb244c8bd32",
   "metadata": {},
   "outputs": [
    {
     "name": "stdout",
     "output_type": "stream",
     "text": [
      "<class 'pandas.core.frame.DataFrame'>\n",
      "RangeIndex: 137 entries, 0 to 136\n",
      "Data columns (total 13 columns):\n",
      " #   Column             Non-Null Count  Dtype  \n",
      "---  ------             --------------  -----  \n",
      " 0   country            137 non-null    object \n",
      " 1   development_index  137 non-null    float64\n",
      " 2   life_expect        137 non-null    float64\n",
      " 3   life_exp60         137 non-null    float64\n",
      " 4   basic_water        137 non-null    float64\n",
      " 5   gdp_per_capita     137 non-null    float64\n",
      " 6   eco_footprint      137 non-null    float64\n",
      " 7   pf_rol             137 non-null    float64\n",
      " 8   ef_legal           137 non-null    float64\n",
      " 9   adult_mortality    137 non-null    float64\n",
      " 10  infant_mort        137 non-null    float64\n",
      " 11  age1-4mort         137 non-null    float64\n",
      " 12  happiness_score    137 non-null    float64\n",
      "dtypes: float64(12), object(1)\n",
      "memory usage: 14.0+ KB\n"
     ]
    }
   ],
   "source": [
    "world_metrics_subset.info()"
   ]
  },
  {
   "cell_type": "code",
   "execution_count": 6,
   "id": "db77a992-b9d9-423c-a44a-baed528fabfd",
   "metadata": {},
   "outputs": [
    {
     "data": {
      "text/plain": [
       "Index(['country', 'development_index', 'life_expect', 'life_exp60',\n",
       "       'basic_water', 'gdp_per_capita', 'eco_footprint', 'pf_rol', 'ef_legal',\n",
       "       'adult_mortality', 'infant_mort', 'age1-4mort', 'happiness_score'],\n",
       "      dtype='object')"
      ]
     },
     "execution_count": 6,
     "metadata": {},
     "output_type": "execute_result"
    }
   ],
   "source": [
    "world_metrics_subset.columns"
   ]
  },
  {
   "cell_type": "code",
   "execution_count": 7,
   "id": "7dcaf4d4-06e6-45a0-8da2-d6bf2424d589",
   "metadata": {},
   "outputs": [
    {
     "data": {
      "text/plain": [
       "array(['Angola', 'Burundi', 'Benin', 'Burkina Faso', 'Botswana',\n",
       "       'Tanzania', 'Uganda', 'South Africa', 'Zambia', 'Zimbabwe', 'Chad',\n",
       "       'Togo', 'Namibia', 'Niger', 'Nigeria', 'Rwanda', 'Senegal',\n",
       "       'Sierra Leone', 'Madagascar', 'Mali', 'Mauritania', 'Mauritius',\n",
       "       'Malawi', 'Kenya', 'Liberia', 'Algeria', 'Ethiopia', 'Gabon',\n",
       "       'Ghana', 'Guinea', 'Cameroon', 'DR Congo', 'Congo Republic',\n",
       "       'Argentina', 'United States', 'Venezuela', 'Paraguay',\n",
       "       'El Salvador', 'Suriname', 'Trinidad and Tobago', 'Uruguay',\n",
       "       'Mexico', 'Nicaragua', 'Panama', 'Peru', 'Guatemala', 'Honduras',\n",
       "       'Haiti', 'Jamaica', 'Costa Rica', 'Dominican Republic', 'Ecuador',\n",
       "       'Bolivia', 'Brazil', 'Canada', 'Chile', 'Colombia',\n",
       "       'United Arab Emirates', 'Bahrain', 'Egypt', 'Iran', 'Tunisia',\n",
       "       'Pakistan', 'Qatar', 'Saudi Arabia', 'Iraq', 'Jordan', 'Kuwait',\n",
       "       'Lebanon', 'Libya', 'Morocco', 'Albania', 'Armenia', 'Austria',\n",
       "       'Azerbaijan', 'Belgium', 'Sweden', 'Tajikistan', 'Turkey',\n",
       "       'Ukraine', 'Serbia', 'Slovakia', 'Slovenia', 'Netherlands',\n",
       "       'Norway', 'Poland', 'Portugal', 'Romania', 'Russia', 'Latvia',\n",
       "       'Moldova', 'Macedonia', 'Montenegro', 'Italy', 'Kazakhstan',\n",
       "       'Kyrgyz Republic', 'Lithuania', 'Luxembourg', 'Greece', 'Croatia',\n",
       "       'Hungary', 'Ireland', 'Israel', 'Spain', 'Estonia', 'Finland',\n",
       "       'France', 'United Kingdom', 'Georgia', 'Czech Republic', 'Germany',\n",
       "       'Denmark', 'Bulgaria', 'Bosnia and Herzegovina', 'Belarus',\n",
       "       'Switzerland', 'Cyprus', 'Bangladesh', 'Bhutan', 'Indonesia',\n",
       "       'India', 'Sri Lanka', 'Myanmar', 'Nepal', 'Thailand', 'Australia',\n",
       "       'China', 'Vietnam', 'Philippines', 'Singapore', 'Mongolia',\n",
       "       'Malaysia', 'New Zealand', 'Japan', 'Cambodia', 'South Korea',\n",
       "       'Laos'], dtype=object)"
      ]
     },
     "execution_count": 7,
     "metadata": {},
     "output_type": "execute_result"
    }
   ],
   "source": [
    "world_metrics_subset['country'].unique()"
   ]
  },
  {
   "cell_type": "markdown",
   "id": "7a593a9f-862c-4d24-8744-3ea5c7b9f9f9",
   "metadata": {},
   "source": [
    "## Scaling"
   ]
  },
  {
   "cell_type": "markdown",
   "id": "90bbe9e6-5de5-47a8-9e82-2ccbd18355e3",
   "metadata": {},
   "source": [
    "To scale our data, we will use two methods:\n",
    "- MinMaxScaler\n",
    "- StandardScaler"
   ]
  },
  {
   "cell_type": "code",
   "execution_count": 8,
   "id": "000cdf63-7cf0-4907-85b0-4aefee553be0",
   "metadata": {},
   "outputs": [],
   "source": [
    "# Extract features and class\n",
    "X_metrics = world_metrics_subset[['development_index', 'life_expect', 'life_exp60',\n",
    "       'basic_water', 'gdp_per_capita', 'eco_footprint', 'pf_rol', 'ef_legal',\n",
    "       'adult_mortality', 'infant_mort', 'age1-4mort']]\n",
    "y_metrics = world_metrics_subset['happiness_score']"
   ]
  },
  {
   "cell_type": "code",
   "execution_count": 9,
   "id": "4e57cf3c-c90b-48c8-ae38-9e4d1a346ce6",
   "metadata": {},
   "outputs": [
    {
     "name": "stdout",
     "output_type": "stream",
     "text": [
      "The training set has 109 observations, and the test set has 28 observations.\n"
     ]
    }
   ],
   "source": [
    "# Split dataset\n",
    "X_train, X_test, y_train, y_test = train_test_split(X_metrics, y_metrics, \n",
    "                                                            test_size=0.2, \n",
    "                                                            random_state=39, \n",
    "                                                            shuffle=True)\n",
    "\n",
    "print(f\"The training set has {X_train.shape[0]} observations, and the test set has {X_test.shape[0]} observations.\")"
   ]
  },
  {
   "cell_type": "code",
   "execution_count": 10,
   "id": "a727ea4a-c56e-409d-9e57-b9f98736833f",
   "metadata": {},
   "outputs": [],
   "source": [
    "# Encode the countries\n",
    "\n",
    "# Extract the column of interest\n",
    "#item_en = X_train[['country']].values.ravel()\n",
    "#item_en_test = X_test[['country']].values.ravel()\n",
    "#Define the encoder\n",
    "#le = LabelEncoder()\n",
    "#Fit the encoder\n",
    "#le.fit(item_en)\n",
    "#Transform the train and the test set\n",
    "#X_train = X_train.assign(Item=le.transform(item_en))\n",
    "#X_test = X_test.assign(Item=le.transform(item_en_test))\n",
    "#print(X_train[['Item']])"
   ]
  },
  {
   "cell_type": "markdown",
   "id": "b719fa39-7086-4386-b6a3-284dadf5a69d",
   "metadata": {},
   "source": [
    "### StandardScaler"
   ]
  },
  {
   "cell_type": "code",
   "execution_count": 11,
   "id": "eae7447a-6b4b-474a-803a-3239b80b5dd9",
   "metadata": {},
   "outputs": [],
   "source": [
    "# Rescaling\n",
    "scaler_std = StandardScaler() # Define the scaler\n",
    "scaler_std.fit(X_train)   # Fit the scaler\n",
    "\n",
    "# Transform the train and the test set\n",
    "X_train_std = scaler_std.transform(X_train)\n",
    "X_test_std = scaler_std.transform(X_test)"
   ]
  },
  {
   "cell_type": "markdown",
   "id": "35f64e5a-45bf-4ed7-8f5d-028aaad033bf",
   "metadata": {},
   "source": [
    "### MinMaxScaler"
   ]
  },
  {
   "cell_type": "code",
   "execution_count": 12,
   "id": "3bcf7643-75a8-4bf8-ae1f-83928974bae0",
   "metadata": {},
   "outputs": [],
   "source": [
    "# Rescaling\n",
    "scaler_minmax = MinMaxScaler() # Define the scaler\n",
    "scaler_minmax.fit(X_train) # Fit the scaler\n",
    "\n",
    "# Transform the train and the test set\n",
    "X_train_minmax = scaler_minmax.transform(X_train)\n",
    "X_test_minmax = scaler_minmax.transform(X_test)"
   ]
  },
  {
   "cell_type": "markdown",
   "id": "0af3b573-824b-4a2e-8ebd-7abcc11519d1",
   "metadata": {},
   "source": [
    "## Clustering Methods"
   ]
  },
  {
   "cell_type": "markdown",
   "id": "4c07fedb-a1ff-48bb-8208-70de3b17e4f3",
   "metadata": {},
   "source": [
    "To perform the clustering we will use the following methods:\n",
    "- K-Nearest Neighbors\n",
    "- Agglomarative Clustering\n",
    "- Other method"
   ]
  },
  {
   "cell_type": "markdown",
   "id": "b40a9603-e658-47df-a8d0-aed46a5c160c",
   "metadata": {},
   "source": [
    "### KNN Model"
   ]
  },
  {
   "cell_type": "code",
   "execution_count": 15,
   "id": "df95446a-5a25-4fd7-a182-f6919c923fa1",
   "metadata": {},
   "outputs": [],
   "source": [
    "# Define parameters to test\n",
    "#grid = {'n_neighbors':np.arange(1,12),     # array from 1 to 12 neighbors (because we want to capture 1-11)\n",
    "        #'p':np.arange(1,3),                # array from 1 to 3, distance metrics\n",
    "        #'weights':['uniform','distance']   # weights\n",
    "       #}\n",
    "\n",
    "# Define and fit model\n",
    "#knn = KNeighborsClassifier()\n",
    "#knn_cv = GridSearchCV(knn, grid, cv=7)\n",
    "#knn_cv.fit(X_train, y_train)"
   ]
  },
  {
   "cell_type": "markdown",
   "id": "959106f9-32e2-446a-afd2-bdffb11db706",
   "metadata": {},
   "source": [
    "### KNN model with standard scaler"
   ]
  },
  {
   "cell_type": "code",
   "execution_count": 18,
   "id": "9a174fab-dc82-4576-aacb-aefd15a03320",
   "metadata": {},
   "outputs": [
    {
     "ename": "ValueError",
     "evalue": "Unknown label type: 'continuous'",
     "output_type": "error",
     "traceback": [
      "\u001b[1;31m---------------------------------------------------------------------------\u001b[0m",
      "\u001b[1;31mValueError\u001b[0m                                Traceback (most recent call last)",
      "Input \u001b[1;32mIn [18]\u001b[0m, in \u001b[0;36m<cell line: 5>\u001b[1;34m()\u001b[0m\n\u001b[0;32m      2\u001b[0m model_knn_std \u001b[38;5;241m=\u001b[39m KNeighborsClassifier(n_neighbors\u001b[38;5;241m=\u001b[39m\u001b[38;5;241m9\u001b[39m, p\u001b[38;5;241m=\u001b[39m\u001b[38;5;241m2\u001b[39m, weights\u001b[38;5;241m=\u001b[39m\u001b[38;5;124m'\u001b[39m\u001b[38;5;124muniform\u001b[39m\u001b[38;5;124m'\u001b[39m)\n\u001b[0;32m      4\u001b[0m \u001b[38;5;66;03m# Fit our model\u001b[39;00m\n\u001b[1;32m----> 5\u001b[0m \u001b[43mmodel_knn_std\u001b[49m\u001b[38;5;241;43m.\u001b[39;49m\u001b[43mfit\u001b[49m\u001b[43m(\u001b[49m\u001b[43mX_train_std\u001b[49m\u001b[43m,\u001b[49m\u001b[43m \u001b[49m\u001b[43my_train\u001b[49m\u001b[43m)\u001b[49m\n",
      "File \u001b[1;32m~\\anaconda3\\lib\\site-packages\\sklearn\\neighbors\\_classification.py:215\u001b[0m, in \u001b[0;36mKNeighborsClassifier.fit\u001b[1;34m(self, X, y)\u001b[0m\n\u001b[0;32m    196\u001b[0m \u001b[38;5;124;03m\"\"\"Fit the k-nearest neighbors classifier from the training dataset.\u001b[39;00m\n\u001b[0;32m    197\u001b[0m \n\u001b[0;32m    198\u001b[0m \u001b[38;5;124;03mParameters\u001b[39;00m\n\u001b[1;32m   (...)\u001b[0m\n\u001b[0;32m    211\u001b[0m \u001b[38;5;124;03m    The fitted k-nearest neighbors classifier.\u001b[39;00m\n\u001b[0;32m    212\u001b[0m \u001b[38;5;124;03m\"\"\"\u001b[39;00m\n\u001b[0;32m    213\u001b[0m \u001b[38;5;28mself\u001b[39m\u001b[38;5;241m.\u001b[39m_validate_params()\n\u001b[1;32m--> 215\u001b[0m \u001b[38;5;28;01mreturn\u001b[39;00m \u001b[38;5;28;43mself\u001b[39;49m\u001b[38;5;241;43m.\u001b[39;49m\u001b[43m_fit\u001b[49m\u001b[43m(\u001b[49m\u001b[43mX\u001b[49m\u001b[43m,\u001b[49m\u001b[43m \u001b[49m\u001b[43my\u001b[49m\u001b[43m)\u001b[49m\n",
      "File \u001b[1;32m~\\anaconda3\\lib\\site-packages\\sklearn\\neighbors\\_base.py:476\u001b[0m, in \u001b[0;36mNeighborsBase._fit\u001b[1;34m(self, X, y)\u001b[0m\n\u001b[0;32m    473\u001b[0m \u001b[38;5;28;01melse\u001b[39;00m:\n\u001b[0;32m    474\u001b[0m     \u001b[38;5;28mself\u001b[39m\u001b[38;5;241m.\u001b[39moutputs_2d_ \u001b[38;5;241m=\u001b[39m \u001b[38;5;28;01mTrue\u001b[39;00m\n\u001b[1;32m--> 476\u001b[0m \u001b[43mcheck_classification_targets\u001b[49m\u001b[43m(\u001b[49m\u001b[43my\u001b[49m\u001b[43m)\u001b[49m\n\u001b[0;32m    477\u001b[0m \u001b[38;5;28mself\u001b[39m\u001b[38;5;241m.\u001b[39mclasses_ \u001b[38;5;241m=\u001b[39m []\n\u001b[0;32m    478\u001b[0m \u001b[38;5;28mself\u001b[39m\u001b[38;5;241m.\u001b[39m_y \u001b[38;5;241m=\u001b[39m np\u001b[38;5;241m.\u001b[39mempty(y\u001b[38;5;241m.\u001b[39mshape, dtype\u001b[38;5;241m=\u001b[39m\u001b[38;5;28mint\u001b[39m)\n",
      "File \u001b[1;32m~\\anaconda3\\lib\\site-packages\\sklearn\\utils\\multiclass.py:218\u001b[0m, in \u001b[0;36mcheck_classification_targets\u001b[1;34m(y)\u001b[0m\n\u001b[0;32m    210\u001b[0m y_type \u001b[38;5;241m=\u001b[39m type_of_target(y, input_name\u001b[38;5;241m=\u001b[39m\u001b[38;5;124m\"\u001b[39m\u001b[38;5;124my\u001b[39m\u001b[38;5;124m\"\u001b[39m)\n\u001b[0;32m    211\u001b[0m \u001b[38;5;28;01mif\u001b[39;00m y_type \u001b[38;5;129;01mnot\u001b[39;00m \u001b[38;5;129;01min\u001b[39;00m [\n\u001b[0;32m    212\u001b[0m     \u001b[38;5;124m\"\u001b[39m\u001b[38;5;124mbinary\u001b[39m\u001b[38;5;124m\"\u001b[39m,\n\u001b[0;32m    213\u001b[0m     \u001b[38;5;124m\"\u001b[39m\u001b[38;5;124mmulticlass\u001b[39m\u001b[38;5;124m\"\u001b[39m,\n\u001b[1;32m   (...)\u001b[0m\n\u001b[0;32m    216\u001b[0m     \u001b[38;5;124m\"\u001b[39m\u001b[38;5;124mmultilabel-sequences\u001b[39m\u001b[38;5;124m\"\u001b[39m,\n\u001b[0;32m    217\u001b[0m ]:\n\u001b[1;32m--> 218\u001b[0m     \u001b[38;5;28;01mraise\u001b[39;00m \u001b[38;5;167;01mValueError\u001b[39;00m(\u001b[38;5;124m\"\u001b[39m\u001b[38;5;124mUnknown label type: \u001b[39m\u001b[38;5;132;01m%r\u001b[39;00m\u001b[38;5;124m\"\u001b[39m \u001b[38;5;241m%\u001b[39m y_type)\n",
      "\u001b[1;31mValueError\u001b[0m: Unknown label type: 'continuous'"
     ]
    }
   ],
   "source": [
    "# Define the model\n",
    "model_knn_std = KNeighborsClassifier(n_neighbors=9, p=2, weights='uniform')\n",
    "\n",
    "# Fit our model\n",
    "model_knn_std.fit(X_train_std, y_train)"
   ]
  },
  {
   "cell_type": "markdown",
   "id": "2ee06471-01bf-414a-bc20-81e7c7aa2225",
   "metadata": {},
   "source": [
    "### KNN model with minmax scaler"
   ]
  },
  {
   "cell_type": "code",
   "execution_count": 19,
   "id": "5d121131-651c-4d14-bfd6-4e8f02576d71",
   "metadata": {},
   "outputs": [
    {
     "ename": "NameError",
     "evalue": "name 'model_kNN_std' is not defined",
     "output_type": "error",
     "traceback": [
      "\u001b[1;31m---------------------------------------------------------------------------\u001b[0m",
      "\u001b[1;31mNameError\u001b[0m                                 Traceback (most recent call last)",
      "Input \u001b[1;32mIn [19]\u001b[0m, in \u001b[0;36m<cell line: 5>\u001b[1;34m()\u001b[0m\n\u001b[0;32m      2\u001b[0m model_knn_minmax \u001b[38;5;241m=\u001b[39m KNeighborsClassifier(n_neighbors\u001b[38;5;241m=\u001b[39m\u001b[38;5;241m9\u001b[39m, p\u001b[38;5;241m=\u001b[39m\u001b[38;5;241m2\u001b[39m, weights\u001b[38;5;241m=\u001b[39m\u001b[38;5;124m'\u001b[39m\u001b[38;5;124muniform\u001b[39m\u001b[38;5;124m'\u001b[39m)\n\u001b[0;32m      4\u001b[0m \u001b[38;5;66;03m# Fit our model\u001b[39;00m\n\u001b[1;32m----> 5\u001b[0m \u001b[43mmodel_kNN_std\u001b[49m\u001b[38;5;241m.\u001b[39mfit(X_train_minmax, y_train_minmax)\n",
      "\u001b[1;31mNameError\u001b[0m: name 'model_kNN_std' is not defined"
     ]
    }
   ],
   "source": [
    "# Define the model\n",
    "model_knn_minmax = KNeighborsClassifier(n_neighbors=9, p=2, weights='uniform')\n",
    "\n",
    "# Fit our model\n",
    "model_kNN_std.fit(X_train_minmax, y_train_minmax)"
   ]
  },
  {
   "cell_type": "code",
   "execution_count": 20,
   "id": "997805b1-a0ed-4cb0-88e7-39414836c75c",
   "metadata": {},
   "outputs": [
    {
     "ename": "NameError",
     "evalue": "name 'KMeans' is not defined",
     "output_type": "error",
     "traceback": [
      "\u001b[1;31m---------------------------------------------------------------------------\u001b[0m",
      "\u001b[1;31mNameError\u001b[0m                                 Traceback (most recent call last)",
      "Input \u001b[1;32mIn [20]\u001b[0m, in \u001b[0;36m<cell line: 2>\u001b[1;34m()\u001b[0m\n\u001b[0;32m      1\u001b[0m \u001b[38;5;66;03m# Set up KMeans model with the number of clusters=4 \u001b[39;00m\n\u001b[1;32m----> 2\u001b[0m kmeans1 \u001b[38;5;241m=\u001b[39m \u001b[43mKMeans\u001b[49m(n_clusters\u001b[38;5;241m=\u001b[39m\u001b[38;5;241m4\u001b[39m, random_state\u001b[38;5;241m=\u001b[39m\u001b[38;5;241m17\u001b[39m, n_init\u001b[38;5;241m=\u001b[39m\u001b[38;5;124m'\u001b[39m\u001b[38;5;124mauto\u001b[39m\u001b[38;5;124m'\u001b[39m) \n\u001b[0;32m      4\u001b[0m \u001b[38;5;66;03m# Fit the model\u001b[39;00m\n\u001b[0;32m      5\u001b[0m kmeans1\u001b[38;5;241m.\u001b[39mfit(X)\n",
      "\u001b[1;31mNameError\u001b[0m: name 'KMeans' is not defined"
     ]
    }
   ],
   "source": [
    "# Set up KMeans model with the number of clusters=4 \n",
    "kmeans1 = KMeans(n_clusters=4, random_state=17, n_init='auto') \n",
    "\n",
    "# Fit the model\n",
    "kmeans1.fit(X)"
   ]
  },
  {
   "cell_type": "markdown",
   "id": "6e11acef-d0ce-401d-ba77-e001b703937d",
   "metadata": {},
   "source": [
    "### Agglomerative Model"
   ]
  },
  {
   "cell_type": "code",
   "execution_count": null,
   "id": "0ce6c268-fe72-4cef-83f7-af305c078c97",
   "metadata": {},
   "outputs": [],
   "source": [
    "# Set up hierarchical algorithm\n",
    "agglomerative = AgglomerativeClustering(n_clusters=4, metric='euclidean', linkage='ward')\n",
    "\n",
    "# Fit model\n",
    "agglomerative.fit(X)"
   ]
  }
 ],
 "metadata": {
  "kernelspec": {
   "display_name": "Python 3 (ipykernel)",
   "language": "python",
   "name": "python3"
  },
  "language_info": {
   "codemirror_mode": {
    "name": "ipython",
    "version": 3
   },
   "file_extension": ".py",
   "mimetype": "text/x-python",
   "name": "python",
   "nbconvert_exporter": "python",
   "pygments_lexer": "ipython3",
   "version": "3.9.12"
  }
 },
 "nbformat": 4,
 "nbformat_minor": 5
}
